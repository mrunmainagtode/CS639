{
  "nbformat": 4,
  "nbformat_minor": 0,
  "metadata": {
    "colab": {
      "provenance": [],
      "authorship_tag": "ABX9TyMTL7xgONDyZDnuv0XqE94D",
      "include_colab_link": true
    },
    "kernelspec": {
      "name": "python3",
      "display_name": "Python 3"
    },
    "language_info": {
      "name": "python"
    }
  },
  "cells": [
    {
      "cell_type": "markdown",
      "metadata": {
        "id": "view-in-github",
        "colab_type": "text"
      },
      "source": [
        "<a href=\"https://colab.research.google.com/github/mrunmainagtode/CS639/blob/main/Ass1_NLP_MNagtode.ipynb\" target=\"_parent\"><img src=\"https://colab.research.google.com/assets/colab-badge.svg\" alt=\"Open In Colab\"/></a>"
      ]
    },
    {
      "cell_type": "code",
      "execution_count": 5,
      "metadata": {
        "colab": {
          "base_uri": "https://localhost:8080/"
        },
        "id": "YwN7YkYt1QH0",
        "outputId": "a33c809c-0258-4ed9-e3a4-8b667c0d6298"
      },
      "outputs": [
        {
          "output_type": "stream",
          "name": "stderr",
          "text": [
            "[nltk_data] Downloading package punkt to /root/nltk_data...\n",
            "[nltk_data]   Package punkt is already up-to-date!\n"
          ]
        },
        {
          "output_type": "stream",
          "name": "stdout",
          "text": [
            "Failed to extract headlines.\n"
          ]
        }
      ],
      "source": [
        "import requests\n",
        "from bs4 import BeautifulSoup\n",
        "import nltk\n",
        "from nltk.tokenize import word_tokenize, sent_tokenize\n",
        "import re\n",
        "import spacy\n",
        "\n",
        "# Download necessary NLTK resources\n",
        "nltk.download('punkt')\n",
        "\n",
        "# Load spaCy English model\n",
        "nlp = spacy.load(\"en_core_web_sm\")\n",
        "\n",
        "# 1. Data Extraction (Web Scraping Example)\n",
        "def extract_headlines_from_bbc(url):\n",
        "    try:\n",
        "        response = requests.get(url)\n",
        "        response.raise_for_status()\n",
        "        soup = BeautifulSoup(response.text, 'html.parser')\n",
        "        headlines = []\n",
        "        headline_elements = soup.find_all('h3', class_='gs-c-promo-heading__title')\n",
        "        for element in headline_elements:\n",
        "            headlines.append(element.text.strip())\n",
        "        return headlines\n",
        "    except requests.exceptions.RequestException as e:\n",
        "        print(f\"Error fetching data: {e}\")\n",
        "        return None\n",
        "\n",
        "bbc_url = 'https://www.bbc.com/news'\n",
        "extracted_headlines = extract_headlines_from_bbc(bbc_url)\n",
        "\n",
        "if extracted_headlines:\n",
        "    print(\"Extracted Headlines (Before Preprocessing):\")\n",
        "    for headline in extracted_headlines:\n",
        "        print(headline)\n",
        "    print(\"\\n\" + \"-\" * 40 + \"\\n\")\n",
        "\n",
        "    # 2. Preprocessing - Tokenization\n",
        "    def preprocess_text(text):\n",
        "        text = text.lower()\n",
        "        text = re.sub(r'[^\\w\\s]', '', text)\n",
        "        tokens = word_tokenize(text)\n",
        "        return tokens\n",
        "\n",
        "    tokenized_headlines = [preprocess_text(headline) for headline in extracted_headlines]\n",
        "\n",
        "    # 3. Output Cleaned Tokens\n",
        "    print(\"Tokenized Words (After Preprocessing):\")\n",
        "    for tokens in tokenized_headlines:\n",
        "        print(tokens)\n",
        "    print(\"\\n\" + \"-\" * 40 + \"\\n\")\n",
        "\n",
        "    # 4. Bonus Task (Optional)\n",
        "    # Sentence Tokenization\n",
        "    def sentence_tokenize_text(text):\n",
        "        return sent_tokenize(text)\n",
        "\n",
        "    sample_text = \" \".join(extracted_headlines)\n",
        "    sentences = sentence_tokenize_text(sample_text)\n",
        "    print(\"Sentence Tokenization (NLTK):\")\n",
        "    for sentence in sentences:\n",
        "        print(sentence)\n",
        "    print(\"\\n\" + \"-\" * 40 + \"\\n\")\n",
        "\n",
        "    # spaCy Tokenization\n",
        "    print(\"spaCy Tokenization Example (First Headline):\")\n",
        "    doc = nlp(extracted_headlines[0])\n",
        "    spacy_tokens = [token.text for token in doc if not token.is_punct]\n",
        "    print(spacy_tokens)\n",
        "\n",
        "    #NLTK vs spaCy comparison.\n",
        "    print(\"\\nNLTK vs spaCy Tokenization Comparison (First Headline):\")\n",
        "    print(f\"NLTK Tokens: {tokenized_headlines[0]}\")\n",
        "    print(f\"spaCy Tokens: {spacy_tokens}\")\n",
        "\n",
        "else:\n",
        "    print(\"Failed to extract headlines.\")"
      ]
    }
  ]
}